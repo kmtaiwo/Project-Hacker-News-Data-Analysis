{
 "cells": [
  {
   "cell_type": "markdown",
   "metadata": {
    "collapsed": true
   },
   "source": [
    "# Guided Project of Exploring Hacker News Posts"
   ]
  },
  {
   "cell_type": "markdown",
   "metadata": {},
   "source": [
    "__Introduction:__ \n",
    "\n",
    "Hacker News is an online community forum  popular with technology and startup enthusiasts.\n",
    "It works by having users posts two types of stories namely; 'Ask HN' or 'Show HN' on varied interests and members of the forum voting and commenting on the posts.\n",
    "The dataset resulting from the member's engagements are to be explored and analysed to achieve the goal of this project which are:\n",
    "1. Which type of posts - 'Ask HN' or 'Show HN' receive more comments.\n",
    "2. Whether posts created at certain time generate more comments"
   ]
  },
  {
   "cell_type": "markdown",
   "metadata": {},
   "source": [
    "## Exploring and opening the dataset\n",
    "\n",
    "The actual dataset for Hacker News comprises of almost 300,000 rows but it has been reduced to 20,000 rows to be used here by removing entries without comments. \\\n",
    "The data dictionary are as follows:\n",
    "\n",
    "* `id`: unique identifier from Hacker News for the post\n",
    "* `title`: The title of the post\n",
    "* `url`: The URL that the posts links to, if the post has a URL\n",
    "* `num_points`: The number of points the post acquired, calculated as the total number of upvotes minus the total number of downvotes\n",
    "* `num_comments`: The number of comments that were made on the post\n",
    "* `author`: The username of the person who submitted the post\n",
    "* `created_at`: The date and time at which the post was submitted\n",
    "\n",
    "\n",
    "The [data set](https://www.kaggle.com/hacker-news/hacker-news-posts/download) containing the approximately 20,000 rows of Hacker News data can be downloaded  directly from this [link](https://www.kaggle.com/hacker-news/hacker-news-posts).\n",
    "\n",
    "\n"
   ]
  },
  {
   "cell_type": "code",
   "execution_count": 1,
   "metadata": {},
   "outputs": [
    {
     "name": "stdout",
     "output_type": "stream",
     "text": [
      "Length of list: \n",
      "20100\n",
      "\n",
      "\n",
      "Column headers:\n",
      "['id', 'title', 'url', 'num_points', 'num_comments', 'author', 'created_at']\n",
      "\n",
      "\n",
      "First 5 rows of data:\n",
      "[['12224879', 'Interactive Dynamic Video', 'http://www.interactivedynamicvideo.com/', '386', '52', 'ne0phyte', '8/4/2016 11:52'], ['10975351', 'How to Use Open Source and Shut the Fuck Up at the Same Time', 'http://hueniverse.com/2016/01/26/how-to-use-open-source-and-shut-the-fuck-up-at-the-same-time/', '39', '10', 'josep2', '1/26/2016 19:30'], ['11964716', \"Florida DJs May Face Felony for April Fools' Water Joke\", 'http://www.thewire.com/entertainment/2013/04/florida-djs-april-fools-water-joke/63798/', '2', '1', 'vezycash', '6/23/2016 22:20'], ['11919867', 'Technology ventures: From Idea to Enterprise', 'https://www.amazon.com/Technology-Ventures-Enterprise-Thomas-Byers/dp/0073523429', '3', '1', 'hswarna', '6/17/2016 0:01'], ['10301696', 'Note by Note: The Making of Steinway L1037 (2007)', 'http://www.nytimes.com/2007/11/07/movies/07stein.html?_r=0', '8', '2', 'walterbell', '9/30/2015 4:12']]\n"
     ]
    }
   ],
   "source": [
    "from csv import reader\n",
    "\n",
    "# Read in the data\n",
    "opened_file =  open('hacker_news.csv', encoding=\"utf-8\")\n",
    "\n",
    "# Transform read_file into a list of lists\n",
    "read_file = reader(opened_file)\n",
    "hn = list(read_file)\n",
    "\n",
    "#Extracting the first row and assinging it to variable `header`\n",
    "header = hn[0]\n",
    "hn = hn[1:]\n",
    "\n",
    "# Exploring the length of the list, header info, and first few rows.\n",
    "print(\"Length of list: \")\n",
    "print(len(hn))\n",
    "print('\\n')\n",
    "print(\"Column headers:\")\n",
    "print(header)\n",
    "print('\\n')\n",
    "print(\"First 5 rows of data:\")\n",
    "print(hn[:5])"
   ]
  },
  {
   "cell_type": "markdown",
   "metadata": {
    "collapsed": true
   },
   "source": [
    "## Extracting Ask HN and Show HN from Posts\n",
    "Since our analysis is based on counting the two types of Posts namely; Ask HN and Show HN to the exclusion of any other posts, we create lists below to contain and count these posts and any other"
   ]
  },
  {
   "cell_type": "code",
   "execution_count": 2,
   "metadata": {},
   "outputs": [
    {
     "name": "stdout",
     "output_type": "stream",
     "text": [
      "1744\n",
      "1162\n",
      "17194\n"
     ]
    }
   ],
   "source": [
    "# creating three empty lists\n",
    "ask_posts = []\n",
    "show_posts = []\n",
    "other_posts = []\n",
    "\n",
    "# Iterating through rows of Hacker News 'hn' list to populate the empty lists\n",
    "for row in hn:\n",
    "    title = row[1]\n",
    "    if title.lower().startswith('ask hn'):\n",
    "        ask_posts.append(row)\n",
    "    elif title.lower().startswith('show hn'):\n",
    "        show_posts.append(row)\n",
    "    else:\n",
    "        other_posts.append(row)\n",
    "        \n",
    "print(len(ask_posts))\n",
    "print(len(show_posts))\n",
    "print(len(other_posts))       "
   ]
  },
  {
   "cell_type": "markdown",
   "metadata": {},
   "source": [
    "Above excercise shows:\n",
    "* Number of ask_posts = 1,744\n",
    "* Number of show_posts = 1,162\n",
    "* Other types of posts total = 17,194\n",
    "\n",
    "First 3 rows of both `ask_posts` and `show_posts` are shown below "
   ]
  },
  {
   "cell_type": "code",
   "execution_count": 3,
   "metadata": {},
   "outputs": [
    {
     "name": "stdout",
     "output_type": "stream",
     "text": [
      "First 3 rows of ask_posts list of lists:\n",
      "[['12296411', 'Ask HN: How to improve my personal website?', '', '2', '6', 'ahmedbaracat', '8/16/2016 9:55'], ['10610020', 'Ask HN: Am I the only one outraged by Twitter shutting down share counts?', '', '28', '29', 'tkfx', '11/22/2015 13:43'], ['11610310', 'Ask HN: Aby recent changes to CSS that broke mobile?', '', '1', '1', 'polskibus', '5/2/2016 10:14']]\n",
      "\n",
      "\n",
      "First 3 rows of show_posts list of lists:\n",
      "[['10627194', 'Show HN: Wio Link  ESP8266 Based Web of Things Hardware Development Platform', 'https://iot.seeed.cc', '26', '22', 'kfihihc', '11/25/2015 14:03'], ['10646440', 'Show HN: Something pointless I made', 'http://dn.ht/picklecat/', '747', '102', 'dhotson', '11/29/2015 22:46'], ['11590768', 'Show HN: Shanhu.io, a programming playground powered by e8vm', 'https://shanhu.io', '1', '1', 'h8liu', '4/28/2016 18:05']]\n"
     ]
    }
   ],
   "source": [
    "print(\"First 3 rows of ask_posts list of lists:\")\n",
    "print(ask_posts[:3])\n",
    "print('\\n')\n",
    "print(\"First 3 rows of show_posts list of lists:\")\n",
    "print(show_posts[:3])"
   ]
  },
  {
   "cell_type": "markdown",
   "metadata": {},
   "source": [
    "## Calculating Average Number of Comments for Ask HN and Show HN Posts\n"
   ]
  },
  {
   "cell_type": "code",
   "execution_count": 4,
   "metadata": {},
   "outputs": [
    {
     "name": "stdout",
     "output_type": "stream",
     "text": [
      "14.038417431192661\n",
      "10.31669535283993\n"
     ]
    }
   ],
   "source": [
    "# calculating the average number of comments for the Ask HN Posts\n",
    "total_ask_comments = 0\n",
    "for row in ask_posts:\n",
    "    num_comments = int(row[4])\n",
    "    total_ask_comments += num_comments\n",
    "\n",
    "avg_ask_comments = total_ask_comments / len(ask_posts) \n",
    "print(avg_ask_comments)\n",
    "\n",
    "\n",
    "# calculating the average number of comments for the Show HN Posts\n",
    "total_show_comments = 0\n",
    "for row in show_posts:\n",
    "    num_comments = int(row[4])\n",
    "    total_show_comments += num_comments\n",
    "\n",
    "avg_show_comments = total_show_comments / len(show_posts) \n",
    "print(avg_show_comments)"
   ]
  },
  {
   "cell_type": "markdown",
   "metadata": {
    "collapsed": true
   },
   "source": [
    "* Ask HN posts on average receive higher number of comments (average of 14 comments per post) than Show HN posts which receives a lesser number of 10 comments per post.\n",
    "* The explanation for this could be because of the nature of the Hacker News model whereby there are prevalent of seekers of opportunities and solutions being sought to all kinds of isuues or matter. This is in contrast with less people or contributors that would have solution to issues raised.\n",
    "* Another possible reason for lesser average number of comments for the Show HN posts could be that undesirable comments could have been filtered out by back-end operation by administrators."
   ]
  },
  {
   "cell_type": "markdown",
   "metadata": {
    "collapsed": true
   },
   "source": [
    "## Finding amount of Ask Posts and comments created in each hour\n",
    "\n",
    "As a result of the fact discovered above that, on average there are more Ask posts that Show posts the remainder of analysis focuses on Ask Posts to determine the following:\n",
    "1. Calculating number of posts and comments created hourly per day\n",
    "2. Calculating average number of comments ask posts received by hour created."
   ]
  },
  {
   "cell_type": "code",
   "execution_count": 5,
   "metadata": {},
   "outputs": [
    {
     "name": "stdout",
     "output_type": "stream",
     "text": [
      "First 5 rows of result_list list of lists:\n",
      "[['8/16/2016 9:55', 6], ['11/22/2015 13:43', 29], ['5/2/2016 10:14', 1], ['8/2/2016 14:20', 3], ['10/15/2015 16:38', 17]]\n",
      "\n",
      "\n",
      "Amount of ask posts created per hour:\n",
      "{'09': 45, '13': 85, '10': 59, '14': 107, '16': 108, '23': 68, '12': 73, '17': 100, '15': 116, '21': 109, '20': 80, '02': 58, '18': 109, '03': 54, '05': 46, '19': 110, '01': 60, '22': 71, '08': 48, '04': 47, '00': 55, '06': 44, '07': 34, '11': 58}\n",
      "\n",
      "\n",
      "Amount of Comments per hour:\n",
      "{'09': 251, '13': 1253, '10': 793, '14': 1416, '16': 1814, '23': 543, '12': 687, '17': 1146, '15': 4477, '21': 1745, '20': 1722, '02': 1381, '18': 1439, '03': 421, '05': 464, '19': 1188, '01': 683, '22': 479, '08': 492, '04': 337, '00': 447, '06': 397, '07': 267, '11': 641}\n"
     ]
    }
   ],
   "source": [
    "#import the datetime module and give it the alias dt\n",
    "\n",
    "import datetime as dt\n",
    "\n",
    "# creating an empty lists\n",
    "\n",
    "result_list = []\n",
    "for row in ask_posts:\n",
    "    time_created = row[6]\n",
    "    comments_num = int(row[4])\n",
    "    result_list.append([time_created, comments_num])\n",
    "    \n",
    "print(\"First 5 rows of result_list list of lists:\")\n",
    "print(result_list[:5])        \n",
    "    \n",
    "\n",
    "# creating two empty dictionaries\n",
    "\n",
    "counts_by_hour = {}\n",
    "comments_by_hour = {}\n",
    "for row in result_list:\n",
    "    date_format = \"%m/%d/%Y %H:%M\"\n",
    "    date_1_str = row[0]\n",
    "    date_1_dt = dt.datetime.strptime(date_1_str, date_format)\n",
    "    row[0] = date_1_dt\n",
    "    \n",
    "    comments_num = row[1]\n",
    "    hour_dt = row[0]\n",
    "    hour_str = hour_dt.strftime(\"%H\")\n",
    "    if hour_str not in counts_by_hour:\n",
    "        counts_by_hour[hour_str] = 1\n",
    "        comments_by_hour[hour_str] = comments_num\n",
    "    else:\n",
    "        counts_by_hour[hour_str] += 1\n",
    "        comments_by_hour[hour_str] += comments_num\n",
    "\n",
    "print('\\n')\n",
    "print(\"Amount of ask posts created per hour:\")        \n",
    "print(counts_by_hour)\n",
    "print('\\n')\n",
    "print(\"Amount of Comments per hour:\")\n",
    "print(comments_by_hour)     "
   ]
  },
  {
   "cell_type": "markdown",
   "metadata": {
    "collapsed": true
   },
   "source": [
    "## Calculating the Average Number of Comments for Ask HN Posts per hour\n",
    "\n",
    "The `counts_by_hour` and `comments_by_hour` dictionaries above gives the number of posts and comments generated each hour of the day.\n",
    "These are now to be used to calulate the average number of comments per post for post created during each hour of the day."
   ]
  },
  {
   "cell_type": "code",
   "execution_count": 6,
   "metadata": {},
   "outputs": [
    {
     "name": "stdout",
     "output_type": "stream",
     "text": [
      "Average of Comments posted for each hour:\n",
      "[['09', 5.5777777777777775], ['13', 14.741176470588234], ['10', 13.440677966101696], ['14', 13.233644859813085], ['16', 16.796296296296298], ['23', 7.985294117647059], ['12', 9.41095890410959], ['17', 11.46], ['15', 38.5948275862069], ['21', 16.009174311926607], ['20', 21.525], ['02', 23.810344827586206], ['18', 13.20183486238532], ['03', 7.796296296296297], ['05', 10.08695652173913], ['19', 10.8], ['01', 11.383333333333333], ['22', 6.746478873239437], ['08', 10.25], ['04', 7.170212765957447], ['00', 8.127272727272727], ['06', 9.022727272727273], ['07', 7.852941176470588], ['11', 11.051724137931034]]\n"
     ]
    }
   ],
   "source": [
    "# creating three empty lists\n",
    "\n",
    "avg_by_hour = []\n",
    "\n",
    "for hour_str in counts_by_hour:\n",
    "    avg_by_hour.append([hour_str, comments_by_hour[hour_str]/counts_by_hour[hour_str]])\n",
    "\n",
    "print(\"Average of Comments posted for each hour:\")\n",
    "print(avg_by_hour)    "
   ]
  },
  {
   "cell_type": "markdown",
   "metadata": {},
   "source": [
    "## Sorting and printing values from a List of Lists\n",
    "The list of lists created above now need to be sorted to format summarise\n",
    "the conclussion in easy an easy format"
   ]
  },
  {
   "cell_type": "code",
   "execution_count": 7,
   "metadata": {},
   "outputs": [
    {
     "name": "stdout",
     "output_type": "stream",
     "text": [
      "Average of Comments posted for each hour - Swapped:\n",
      "[[5.5777777777777775, '09'], [14.741176470588234, '13'], [13.440677966101696, '10'], [13.233644859813085, '14'], [16.796296296296298, '16'], [7.985294117647059, '23'], [9.41095890410959, '12'], [11.46, '17'], [38.5948275862069, '15'], [16.009174311926607, '21'], [21.525, '20'], [23.810344827586206, '02'], [13.20183486238532, '18'], [7.796296296296297, '03'], [10.08695652173913, '05'], [10.8, '19'], [11.383333333333333, '01'], [6.746478873239437, '22'], [10.25, '08'], [7.170212765957447, '04'], [8.127272727272727, '00'], [9.022727272727273, '06'], [7.852941176470588, '07'], [11.051724137931034, '11']]\n"
     ]
    }
   ],
   "source": [
    "# creating an empty lists needed for sorted and swapped\n",
    "\n",
    "swap_avg_by_hour = []\n",
    "\n",
    "for row in avg_by_hour:\n",
    "    swap_avg_by_hour.append([row[1], row[0]])\n",
    "    \n",
    "print(\"Average of Comments posted for each hour - Swapped:\")\n",
    "print(swap_avg_by_hour)    "
   ]
  },
  {
   "cell_type": "code",
   "execution_count": 8,
   "metadata": {},
   "outputs": [
    {
     "name": "stdout",
     "output_type": "stream",
     "text": [
      "Top 5 Hours for Ask Posts Comments:\n",
      "15:00 38.59 average comments per post\n",
      "02:00 23.81 average comments per post\n",
      "20:00 21.52 average comments per post\n",
      "16:00 16.80 average comments per post\n",
      "21:00 16.01 average comments per post\n"
     ]
    }
   ],
   "source": [
    "\n",
    "#Using the sorted() function to sort list in descending order\n",
    "\n",
    "sorted_swap = sorted(swap_avg_by_hour, reverse=True)\n",
    "\n",
    "\n",
    "print(\"Top 5 Hours for Ask Posts Comments:\")\n",
    "\n",
    "sorted_swap = sorted_swap[:5]\n",
    "for row in sorted_swap:\n",
    "    each_avg = row[0]\n",
    "       \n",
    "    hour_format = \"%H\"\n",
    "    hour_str = row[1]\n",
    "    hour_obt = dt.datetime.strptime(hour_str, hour_format)\n",
    "    row[1] = hour_obt\n",
    "    \n",
    "    hour_dt = row[1]\n",
    "    hour_str = hour_dt.strftime(\"%H:%M\")  \n",
    "    template = \"{hour:} {average:.2f} average comments per post\".format(hour = hour_str, average = each_avg)\n",
    "    print(template)\n"
   ]
  },
  {
   "cell_type": "markdown",
   "metadata": {
    "collapsed": true
   },
   "source": [
    "## Conclussion:\n",
    "On average  and at the top is the largest amount of comments are received for ASK HN Posts created at 15:00 hours time zone being Eastern Time in the US.\n",
    "This is followed at the second place at 02:00 hours"
   ]
  },
  {
   "cell_type": "code",
   "execution_count": null,
   "metadata": {},
   "outputs": [],
   "source": []
  }
 ],
 "metadata": {
  "kernelspec": {
   "display_name": "Python 3",
   "language": "python",
   "name": "python3"
  },
  "language_info": {
   "codemirror_mode": {
    "name": "ipython",
    "version": 3
   },
   "file_extension": ".py",
   "mimetype": "text/x-python",
   "name": "python",
   "nbconvert_exporter": "python",
   "pygments_lexer": "ipython3",
   "version": "3.8.8"
  }
 },
 "nbformat": 4,
 "nbformat_minor": 2
}
